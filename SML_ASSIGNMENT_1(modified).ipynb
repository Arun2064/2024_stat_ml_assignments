{
  "nbformat": 4,
  "nbformat_minor": 0,
  "metadata": {
    "colab": {
      "provenance": [],
      "authorship_tag": "ABX9TyPvVegQP18eTMXvDS9msQgJ",
      "include_colab_link": true
    },
    "kernelspec": {
      "name": "python3",
      "display_name": "Python 3"
    },
    "language_info": {
      "name": "python"
    }
  },
  "cells": [
    {
      "cell_type": "markdown",
      "metadata": {
        "id": "view-in-github",
        "colab_type": "text"
      },
      "source": [
        "<a href=\"https://colab.research.google.com/github/Arun2064/2024_stat_ml_assignments/blob/main/SML_ASSIGNMENT_1(modified).ipynb\" target=\"_parent\"><img src=\"https://colab.research.google.com/assets/colab-badge.svg\" alt=\"Open In Colab\"/></a>"
      ]
    },
    {
      "cell_type": "code",
      "execution_count": null,
      "metadata": {
        "id": "hC6q-Cu7C64t"
      },
      "outputs": [],
      "source": [
        "X=[2.3,2.5,3.6,2.8,3.1,2.9,3.2,2.7,2.8,3.0]"
      ]
    },
    {
      "cell_type": "code",
      "source": [
        "import matplotlib.pyplot as plt\n",
        "plt.hist(X, bins=5, density=True)\n",
        "plt.xlabel('X')\n",
        "plt.ylabel('Density')\n",
        "plt.title('Histogram of X')\n",
        "plt.show()"
      ],
      "metadata": {
        "colab": {
          "base_uri": "https://localhost:8080/",
          "height": 472
        },
        "id": "UyoSBAIDDaSI",
        "outputId": "b3f199d4-7b01-4921-dbe3-c8599295cbbb"
      },
      "execution_count": null,
      "outputs": [
        {
          "output_type": "display_data",
          "data": {
            "text/plain": [
              "<Figure size 640x480 with 1 Axes>"
            ],
            "image/png": "[encoded data removed]"
          },
          "metadata": {}
        }
      ]
    },
    {
      "cell_type": "code",
      "source": [
        "import numpy as np\n",
        "import pandas as pd\n",
        "\n",
        "\n",
        "x = np.array([4, 5, 8, 2, 4, 2, 5])\n",
        "y = np.array([5, 6, 3, 8, 3, 7, 8])\n",
        "\n",
        "\n",
        "data = pd.DataFrame({'x': x, 'y': y})\n",
        "\n",
        "\n",
        "mean_x = data['x'].mean()\n",
        "mean_y = data['y'].mean()\n",
        "\n",
        "\n",
        "median_x = data['x'].median()\n",
        "median_y = data['y'].median()\n",
        "\n",
        "\n",
        "mode_x = data['x'].mode()[0]\n",
        "mode_y = data['y'].mode()[0]\n",
        "\n",
        "\n",
        "variance_x = data['x'].var()\n",
        "variance_y = data['y'].var()\n",
        "\n",
        "\n",
        "std_dev_x = data['x'].std()\n",
        "std_dev_y = data['y'].std()\n",
        "\n",
        "\n",
        "range_x = data['x'].max() - data['x'].min()\n",
        "range_y = data['y'].max() - data['y'].min()\n",
        "\n",
        "\n",
        "iqr_x = data['x'].quantile(0.75) - data['x'].quantile(0.25)\n",
        "iqr_y = data['y'].quantile(0.75) - data['y'].quantile(0.25)\n",
        "\n",
        "\n",
        "skewness_x = data['x'].skew()\n",
        "skewness_y = data['y'].skew()\n",
        "\n",
        "\n",
        "kurtosis_x = data['x'].kurtosis()\n",
        "kurtosis_y = data['y'].kurtosis()\n",
        "\n",
        "\n",
        "print(f\"Mean of x: {mean_x}, Mean of y: {mean_y}\")\n",
        "print(f\"Median of x: {median_x}, Median of y: {median_y}\")\n",
        "print(f\"Mode of x: {mode_x}, Mode of y: {mode_y}\")\n",
        "print(f\"Variance of x: {variance_x}, Variance of y: {variance_y}\")\n",
        "print(f\"Standard Deviation of x: {std_dev_x}, Standard Deviation of y: {std_dev_y}\")\n",
        "print(f\"Range of x: {range_x}, Range of y: {range_y}\")\n",
        "print(f\"Interquartile Range (IQR) of x: {iqr_x}, IQR of y: {iqr_y}\")\n",
        "print(f\"Skewness of x: {skewness_x}, Skewness of y: {skewness_y}\")\n",
        "print(f\"Kurtosis of x: {kurtosis_x}, Kurtosis of y: {kurtosis_y}\")\n"
      ],
      "metadata": {
        "colab": {
          "base_uri": "https://localhost:8080/"
        },
        "id": "j8RYpH7slESS",
        "outputId": "7e92873b-9b9f-43f1-f032-0c6593f211e6"
      },
      "execution_count": null,
      "outputs": [
        {
          "output_type": "stream",
          "name": "stdout",
          "text": [
            "Mean of x: 4.285714285714286, Mean of y: 5.714285714285714\n",
            "Median of x: 4.0, Median of y: 6.0\n",
            "Mode of x: 2, Mode of y: 3\n",
            "Variance of x: 4.238095238095238, Variance of y: 4.571428571428572\n",
            "Standard Deviation of x: 2.0586634591635513, Standard Deviation of y: 2.138089935299395\n",
            "Range of x: 6, Range of y: 5\n",
            "Interquartile Range (IQR) of x: 2.0, IQR of y: 3.5\n",
            "Skewness of x: 0.749913842326791, Skewness of y: -0.34201087050980566\n",
            "Kurtosis of x: 0.977225097841182, Kurtosis of y: -1.6898437500000005\n"
          ]
        }
      ]
    },
    {
      "cell_type": "code",
      "source": [
        "import pandas as pd\n",
        "import numpy as np\n",
        "\n",
        "\n",
        "file_path = '/content/sample_data/california_housing_test.csv'\n",
        "df = pd.read_csv(file_path)\n",
        "\n",
        "\n",
        "stats = {}\n",
        "\n",
        "\n",
        "stats['Mean'] = df.mean()\n",
        "\n",
        "\n",
        "stats['Median'] = df.median()\n",
        "\n",
        "\n",
        "stats['Mode'] = df.mode().iloc[0]\n",
        "\n",
        "\n",
        "stats['Variance'] = df.var()\n",
        "\n",
        "\n",
        "stats['Standard Deviation'] = df.std()\n",
        "\n",
        "\n",
        "stats['Range'] = df.max() - df.min()\n",
        "\n",
        "\n",
        "stats['IQR'] = df.quantile(0.75) - df.quantile(0.25)\n",
        "\n",
        "\n",
        "stats['Skewness'] = df.skew()\n",
        "\n",
        "\n",
        "stats['Kurtosis'] = df.kurtosis()\n",
        "\n",
        "\n",
        "stats_df = pd.DataFrame(stats)\n",
        "\n",
        "\n",
        "print(stats_df)\n"
      ],
      "metadata": {
        "colab": {
          "base_uri": "https://localhost:8080/"
        },
        "id": "J6Tvz8XmRzY2",
        "outputId": "499a16a0-df85-449a-a689-ec33d0feffab"
      },
      "execution_count": 5,
      "outputs": [
        {
          "output_type": "stream",
          "name": "stdout",
          "text": [
            "                             Mean        Median         Mode      Variance  \\\n",
            "longitude             -119.589200    -118.48500    -118.2600  3.979771e+00   \n",
            "latitude                35.635390      34.27000      34.0200  4.535492e+00   \n",
            "housing_median_age      28.845333      29.00000      52.0000  1.576380e+02   \n",
            "total_rooms           2599.578667    2106.00000     907.0000  4.646583e+06   \n",
            "total_bedrooms         529.950667     437.00000     314.0000  1.727686e+05   \n",
            "population            1402.798667    1155.00000     870.0000  1.062019e+06   \n",
            "households             489.912000     409.50000     273.0000  1.335338e+05   \n",
            "median_income            3.807272       3.48715      15.0001  3.439214e+00   \n",
            "median_house_value  205846.275000  177650.00000  500001.0000  1.279606e+10   \n",
            "\n",
            "                    Standard Deviation        Range            IQR  Skewness  \\\n",
            "longitude                     1.994936       9.6900       3.790000 -0.297858   \n",
            "latitude                      2.129670       9.3600       3.760000  0.459816   \n",
            "housing_median_age           12.555396      51.0000      19.000000  0.018513   \n",
            "total_rooms                2155.593332   30444.0000    1728.000000  4.167637   \n",
            "total_bedrooms              415.654368    5417.0000     345.000000  3.863393   \n",
            "population                 1030.543012   11930.0000     962.750000  2.949671   \n",
            "households                  365.422710    4928.0000     324.250000  3.559753   \n",
            "median_income                 1.854512      14.5002       2.112475  1.698512   \n",
            "median_house_value       113119.687470  477501.0000  142775.000000  0.989562   \n",
            "\n",
            "                     Kurtosis  \n",
            "longitude           -1.362772  \n",
            "latitude            -1.124372  \n",
            "housing_median_age  -0.803784  \n",
            "total_rooms         32.099941  \n",
            "total_bedrooms      28.537071  \n",
            "population          16.443268  \n",
            "households          26.229361  \n",
            "median_income        5.626184  \n",
            "median_house_value   0.395399  \n"
          ]
        }
      ]
    }
  ]
}