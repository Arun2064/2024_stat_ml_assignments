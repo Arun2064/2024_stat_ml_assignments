{
  "nbformat": 4,
  "nbformat_minor": 0,
  "metadata": {
    "colab": {
      "provenance": [],
      "authorship_tag": "ABX9TyPpPmSt2x87b4EL1I8W/XM0",
      "include_colab_link": true
    },
    "kernelspec": {
      "name": "python3",
      "display_name": "Python 3"
    },
    "language_info": {
      "name": "python"
    }
  },
  "cells": [
    {
      "cell_type": "markdown",
      "metadata": {
        "id": "view-in-github",
        "colab_type": "text"
      },
      "source": [
        "<a href=\"https://colab.research.google.com/github/Arun2064/2024_stat_ml_assignments/blob/main/SML_ASSIGNMENT_2_1.ipynb\" target=\"_parent\"><img src=\"https://colab.research.google.com/assets/colab-badge.svg\" alt=\"Open In Colab\"/></a>"
      ]
    },
    {
      "cell_type": "code",
      "execution_count": null,
      "metadata": {
        "colab": {
          "base_uri": "https://localhost:8080/",
          "height": 508
        },
        "id": "oNj9x4jnj3SO",
        "outputId": "376a3244-56d7-47d7-c46f-56362f321581"
      },
      "outputs": [
        {
          "output_type": "stream",
          "name": "stdout",
          "text": [
            "Density: [0.61538462 0.23076923 0.07692308 0.         0.07692308]\n",
            "Bin edges: [ 1.3   3.24  5.18  7.12  9.06 11.  ]\n"
          ]
        },
        {
          "output_type": "display_data",
          "data": {
            "text/plain": [
              "<Figure size 640x480 with 1 Axes>"
            ],
            "image/png": "[encoded data removed]"
          },
          "metadata": {}
        }
      ],
      "source": [
        "import numpy as np\n",
        "import matplotlib.pyplot as plt\n",
        "X = [1.3, 1.5, 2.6, 2.6, 3.2, 3.9, 4.2, 3.7, 3.10, 3.0, 11, 6.7, 1.9]\n",
        "num_bins = 5\n",
        "counts, bin_edges = np.histogram(X, bins=num_bins, density=True)\n",
        "density = counts / np.sum(counts)\n",
        "print(\"Density:\", density)\n",
        "print(\"Bin edges:\", bin_edges)\n",
        "plt.hist(X, bins=num_bins, density=True, alpha=0.6, color='r')\n",
        "plt.xlabel('Data')\n",
        "plt.ylabel('Density')\n",
        "plt.title('Histogram with Density')\n",
        "plt.show()"
      ]
    },
    {
      "cell_type": "code",
      "source": [
        "import numpy as np\n",
        "import pandas as pd\n",
        "\n",
        "\n",
        "x = np.array([12, 13, 56, 23, 41, 28, 51])\n",
        "y = np.array([51, 63, 37, 88, 33, 72, 81])\n",
        "\n",
        "\n",
        "mean_x = np.mean(x)\n",
        "mean_y = np.mean(y)\n",
        "\n",
        "\n",
        "median_x = np.median(x)\n",
        "median_y = np.median(y)\n",
        "\n",
        "\n",
        "mode_x = pd.Series(x).mode()[0]  # pandas used for mode calculation\n",
        "mode_y = pd.Series(y).mode()[0]\n",
        "\n",
        "\n",
        "variance_x = np.var(x, ddof=1)\n",
        "variance_y = np.var(y, ddof=1)\n",
        "\n",
        "\n",
        "std_dev_x = np.std(x, ddof=1)\n",
        "std_dev_y = np.std(y, ddof=1)\n",
        "\n",
        "\n",
        "range_x = np.ptp(x)\n",
        "range_y = np.ptp(y)\n",
        "\n",
        "\n",
        "iqr_x = np.percentile(x, 75) - np.percentile(x, 25)\n",
        "iqr_y = np.percentile(y, 75) - np.percentile(y, 25)\n",
        "\n",
        "\n",
        "skewness_x = pd.Series(x).skew()\n",
        "skewness_y = pd.Series(y).skew()\n",
        "\n",
        "\n",
        "kurtosis_x = pd.Series(x).kurt()\n",
        "kurtosis_y = pd.Series(y).kurt()\n",
        "\n",
        "\n",
        "print(\"Statistics for X:\")\n",
        "print(f\"Mean: {mean_x}\")\n",
        "print(f\"Median: {median_x}\")\n",
        "print(f\"Mode: {mode_x}\")\n",
        "print(f\"Variance: {variance_x}\")\n",
        "print(f\"Standard Deviation: {std_dev_x}\")\n",
        "print(f\"Range: {range_x}\")\n",
        "print(f\"IQR: {iqr_x}\")\n",
        "print(f\"Skewness: {skewness_x}\")\n",
        "print(f\"Kurtosis: {kurtosis_x}\")\n",
        "\n",
        "print(\"\\nStatistics for Y:\")\n",
        "print(f\"Mean: {mean_y}\")\n",
        "print(f\"Median: {median_y}\")\n",
        "print(f\"Mode: {mode_y}\")\n",
        "print(f\"Variance: {variance_y}\")\n",
        "print(f\"Standard Deviation: {std_dev_y}\")\n",
        "print(f\"Range: {range_y}\")\n",
        "print(f\"IQR: {iqr_y}\")\n",
        "print(f\"Skewness: {skewness_y}\")\n",
        "print(f\"Kurtosis: {kurtosis_y}\")"
      ],
      "metadata": {
        "colab": {
          "base_uri": "https://localhost:8080/"
        },
        "id": "V6CUhmL-lsvr",
        "outputId": "d731d11f-3079-430e-ca08-2b917aa696c9"
      },
      "execution_count": null,
      "outputs": [
        {
          "output_type": "stream",
          "name": "stdout",
          "text": [
            "Statistics for X:\n",
            "Mean: 32.0\n",
            "Median: 28.0\n",
            "Mode: 12\n",
            "Variance: 312.6666666666667\n",
            "Standard Deviation: 17.682382946499793\n",
            "Range: 44\n",
            "IQR: 28.0\n",
            "Skewness: 0.24309548524609076\n",
            "Kurtosis: -1.7444165101995357\n",
            "\n",
            "Statistics for Y:\n",
            "Mean: 60.714285714285715\n",
            "Median: 63.0\n",
            "Mode: 33\n",
            "Variance: 452.23809523809524\n",
            "Standard Deviation: 21.265890417240826\n",
            "Range: 55\n",
            "IQR: 32.5\n",
            "Skewness: -0.13169496617475043\n",
            "Kurtosis: -1.6236709987134375\n"
          ]
        }
      ]
    },
    {
      "cell_type": "code",
      "source": [
        "import numpy as np\n",
        "import pandas as pd\n",
        "\n",
        "\n",
        "file_path = \"/content/sample_data/housing.csv\"\n",
        "\n",
        "\n",
        "\n",
        "df = pd.read_csv(file_path)"
      ],
      "metadata": {
        "id": "R7pAOtz0tO_D"
      },
      "execution_count": 3,
      "outputs": []
    },
    {
      "cell_type": "code",
      "source": [
        "statistics = {}\n",
        "for column in df.columns:\n",
        "    data = df[column]\n",
        "    if pd.api.types.is_numeric_dtype(data):\n",
        "        mean = data.mean()\n",
        "        median = data.median()\n",
        "        mode = data.mode()[0]  # pandas returns a series, take the first mode\n",
        "        variance = data.var()\n",
        "        std_dev = data.std()\n",
        "        data_range = data.max() - data.min()\n",
        "        iqr = data.quantile(0.75) - data.quantile(0.25)\n",
        "        skewness = data.skew()\n",
        "        kurtosis = data.kurt()\n",
        "        statistics[column] = {\n",
        "          \"Mean\": mean,\n",
        "          \"Median\": median,\n",
        "          \"Mode\": mode,\n",
        "          \"Variance\": variance,\n",
        "          \"Standard Deviation\": std_dev,\n",
        "          \"Range\": data_range,\n",
        "          \"Interquartile Range (IQR)\": iqr,\n",
        "          \"Skewness\": skewness,\n",
        "          \"Kurtosis\": kurtosis\n",
        "        }\n",
        "    else:\n",
        "\n",
        "       mode = data.mode()[0]\n",
        "       statistics[column] = {\n",
        "           \"Mode\": mode,\n",
        "       }\n",
        "\n",
        "stats_df = pd.DataFrame(statistics)\n",
        "print(stats_df)\n"
      ],
      "metadata": {
        "colab": {
          "base_uri": "https://localhost:8080/"
        },
        "id": "ZYb0lZTma7IR",
        "outputId": "01244a95-6455-46c3-b2fc-030080958c02"
      },
      "execution_count": 7,
      "outputs": [
        {
          "output_type": "stream",
          "name": "stdout",
          "text": [
            "                            longitude   latitude  housing_median_age  \\\n",
            "Mean                      -119.569704  35.631861           28.639486   \n",
            "Median                    -118.490000  34.260000           29.000000   \n",
            "Mode                      -118.310000  34.060000           52.000000   \n",
            "Variance                     4.014139   4.562293          158.396260   \n",
            "Standard Deviation           2.003532   2.135952           12.585558   \n",
            "Range                       10.040000   9.410000           51.000000   \n",
            "Interquartile Range (IQR)    3.790000   3.780000           19.000000   \n",
            "Skewness                    -0.297801   0.465953            0.060331   \n",
            "Kurtosis                    -1.330152  -1.117760           -0.800629   \n",
            "\n",
            "                            total_rooms  total_bedrooms    population  \\\n",
            "Mean                       2.635763e+03      537.870553  1.425477e+03   \n",
            "Median                     2.127000e+03      435.000000  1.166000e+03   \n",
            "Mode                       1.527000e+03      280.000000  8.910000e+02   \n",
            "Variance                   4.759445e+06   177565.377281  1.282470e+06   \n",
            "Standard Deviation         2.181615e+03      421.385070  1.132462e+03   \n",
            "Range                      3.931800e+04     6444.000000  3.567900e+04   \n",
            "Interquartile Range (IQR)  1.700250e+03      351.000000  9.380000e+02   \n",
            "Skewness                   4.147343e+00        3.459546  4.935858e+00   \n",
            "Kurtosis                   3.263093e+01       21.985575  7.355312e+01   \n",
            "\n",
            "                              households  median_income  median_house_value  \\\n",
            "Mean                          499.539680       3.870671        2.068558e+05   \n",
            "Median                        409.000000       3.534800        1.797000e+05   \n",
            "Mode                          306.000000       3.125000        5.000010e+05   \n",
            "Variance                   146176.039900       3.609323        1.331615e+10   \n",
            "Standard Deviation            382.329753       1.899822        1.153956e+05   \n",
            "Range                        6081.000000      14.500200        4.850020e+05   \n",
            "Interquartile Range (IQR)     325.000000       2.179850        1.451250e+05   \n",
            "Skewness                        3.410438       1.646657        9.777633e-01   \n",
            "Kurtosis                       22.057988       4.952524        3.278702e-01   \n",
            "\n",
            "                          ocean_proximity  \n",
            "Mean                                  NaN  \n",
            "Median                                NaN  \n",
            "Mode                            <1H OCEAN  \n",
            "Variance                              NaN  \n",
            "Standard Deviation                    NaN  \n",
            "Range                                 NaN  \n",
            "Interquartile Range (IQR)             NaN  \n",
            "Skewness                              NaN  \n",
            "Kurtosis                              NaN  \n"
          ]
        }
      ]
    }
  ]
}