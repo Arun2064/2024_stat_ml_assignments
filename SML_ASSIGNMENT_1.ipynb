{
  "nbformat": 4,
  "nbformat_minor": 0,
  "metadata": {
    "colab": {
      "provenance": [],
      "authorship_tag": "ABX9TyNjQ46J1oew7wsrlIen103b",
      "include_colab_link": true
    },
    "kernelspec": {
      "name": "python3",
      "display_name": "Python 3"
    },
    "language_info": {
      "name": "python"
    }
  },
  "cells": [
    {
      "cell_type": "markdown",
      "metadata": {
        "id": "view-in-github",
        "colab_type": "text"
      },
      "source": [
        "<a href=\"https://colab.research.google.com/github/Arun2064/2024_stat_ml_assignments/blob/main/SML_ASSIGNMENT_1.ipynb\" target=\"_parent\"><img src=\"https://colab.research.google.com/assets/colab-badge.svg\" alt=\"Open In Colab\"/></a>"
      ]
    },
    {
      "cell_type": "code",
      "execution_count": null,
      "metadata": {
        "id": "hC6q-Cu7C64t"
      },
      "outputs": [],
      "source": [
        "X=[2.3,2.5,3.6,2.8,3.1,2.9,3.2,2.7,2.8,3.0]"
      ]
    },
    {
      "cell_type": "code",
      "source": [
        "import matplotlib.pyplot as plt\n",
        "plt.hist(X, bins=5, density=True)\n",
        "plt.xlabel('X')\n",
        "plt.ylabel('Density')\n",
        "plt.title('Histogram of X')\n",
        "plt.show()"
      ],
      "metadata": {
        "colab": {
          "base_uri": "https://localhost:8080/",
          "height": 472
        },
        "id": "UyoSBAIDDaSI",
        "outputId": "b3f199d4-7b01-4921-dbe3-c8599295cbbb"
      },
      "execution_count": null,
      "outputs": [
        {
          "output_type": "display_data",
          "data": {
            "text/plain": [
              "<Figure size 640x480 with 1 Axes>"
            ],
            "image/png": "[encoded data removed]"
          },
          "metadata": {}
        }
      ]
    },
    {
      "cell_type": "code",
      "source": [
        "import numpy as np\n",
        "from scipy.stats import skew, kurtosis"
      ],
      "metadata": {
        "id": "QL6TTbiUEpxQ"
      },
      "execution_count": null,
      "outputs": []
    },
    {
      "cell_type": "code",
      "source": [
        "x = np.array([4, 5, 8, 2, 4, 2, 5])\n",
        "y = np.array([5, 6, 3, 8, 3, 7, 8])\n"
      ],
      "metadata": {
        "id": "o7srl-byEdkr"
      },
      "execution_count": null,
      "outputs": []
    },
    {
      "cell_type": "code",
      "source": [
        "import numpy as np\n",
        "from scipy.stats import skew, kurtosis\n",
        "\n",
        "x = np.array([4, 5, 8, 2, 4, 2, 5])\n",
        "y = np.array([5, 6, 3, 8, 3, 7, 8])\n",
        "\n",
        "def descriptive_stats(data):\n",
        "    mean = np.mean(data)\n",
        "    median = np.median(data)\n",
        "    mode = np.argmax(np.bincount(data))\n",
        "    variance = np.var(data)\n",
        "    std_dev = np.std(data)\n",
        "    data_range = np.max(data) - np.min(data)\n",
        "    iqr = np.percentile(data, 75) - np.percentile(data, 25)\n",
        "    skewness_val = skew(data)\n",
        "    kurtosis_val = kurtosis(data)\n",
        "\n",
        "    print(\"Mean:\", mean)\n",
        "    print(\"Median:\", median)\n",
        "    print(\"Mode:\", mode)\n",
        "    print(\"Variance:\", variance)\n",
        "    print(\"Standard Deviation:\", std_dev)\n",
        "    print(\"Range:\", data_range)\n",
        "    print(\"Interquartile Range (IQR):\", iqr)\n",
        "    print(\"Skewness:\", skewness_val)\n",
        "    print(\"Kurtosis:\", kurtosis_val)\n",
        "\n",
        "\n",
        "print(\"Descriptive Statistics for x:\")\n",
        "descriptive_stats(x)\n",
        "\n",
        "print(\"\\nDescriptive Statistics for y:\")\n",
        "descriptive_stats(y)"
      ],
      "metadata": {
        "colab": {
          "base_uri": "https://localhost:8080/"
        },
        "id": "hHwEuFCDHf4g",
        "outputId": "75de3f36-7f26-49ab-96c7-4d60800f3321"
      },
      "execution_count": null,
      "outputs": [
        {
          "output_type": "stream",
          "name": "stdout",
          "text": [
            "Descriptive Statistics for x:\n",
            "Mean: 4.285714285714286\n",
            "Median: 4.0\n",
            "Mode: 2\n",
            "Variance: 3.6326530612244894\n",
            "Standard Deviation: 1.9059520091609048\n",
            "Range: 6\n",
            "Interquartile Range (IQR): 2.0\n",
            "Skewness: 0.5785710902698393\n",
            "Kurtosis: -0.34282287589950755\n",
            "\n",
            "Descriptive Statistics for y:\n",
            "Mean: 5.714285714285714\n",
            "Median: 6.0\n",
            "Mode: 3\n",
            "Variance: 3.918367346938776\n",
            "Standard Deviation: 1.979486637221574\n",
            "Range: 5\n",
            "Interquartile Range (IQR): 3.5\n",
            "Skewness: -0.26386711521557127\n",
            "Kurtosis: -1.4541015625000002\n"
          ]
        }
      ]
    },
    {
      "cell_type": "code",
      "source": [
        "import pandas as pd"
      ],
      "metadata": {
        "id": "tcVFDZ_jJ21Z"
      },
      "execution_count": null,
      "outputs": []
    },
    {
      "cell_type": "code",
      "source": [
        "import numpy as np"
      ],
      "metadata": {
        "id": "W1gejd00LIqQ"
      },
      "execution_count": null,
      "outputs": []
    },
    {
      "cell_type": "code",
      "source": [
        "from scipy.stats import skew,kurtosis"
      ],
      "metadata": {
        "id": "Z2QJQK5OLOcU"
      },
      "execution_count": null,
      "outputs": []
    },
    {
      "cell_type": "code",
      "source": [
        " file_path = '/content/sample_data/california_housing_test.csv'"
      ],
      "metadata": {
        "id": "Jo_f-cTEJ-lu"
      },
      "execution_count": null,
      "outputs": []
    },
    {
      "cell_type": "code",
      "source": [
        "\n",
        "\n",
        "\n",
        "\n",
        "\n",
        "df = pd.read_csv(file_path)\n",
        "\n",
        "def descriptive_stats(data):\n",
        "    mean = np.mean(data)\n",
        "    median = np.median(data)\n",
        "\n",
        "    variance = np.var(data)\n",
        "    std_dev = np.std(data)\n",
        "    data_range = np.max(data) - np.min(data)\n",
        "    iqr = np.percentile(data, 75) - np.percentile(data, 25)\n",
        "    skewness_val = skew(data)\n",
        "    kurtosis_val = kurtosis(data)\n",
        "\n",
        "    print(\"Mean:\", mean)\n",
        "    print(\"Median:\", median)\n",
        "    print(\"Variance:\", variance)\n",
        "    print(\"Standard Deviation:\", std_dev)\n",
        "    print(\"Range:\", data_range)\n",
        "    print(\"Interquartile Range (IQR):\", iqr)\n",
        "    print(\"Skewness:\", skewness_val)\n",
        "    print(\"Kurtosis:\", kurtosis_val)\n",
        "\n",
        "\n",
        "for column in df.columns:\n",
        "    print(\"\\nDescriptive Statistics for\", column, \":\")\n",
        "    descriptive_stats(df[column])"
      ],
      "metadata": {
        "colab": {
          "base_uri": "https://localhost:8080/"
        },
        "id": "h8JUMIfyLbHM",
        "outputId": "7cf77a49-8e2f-4001-b599-092f559fe339"
      },
      "execution_count": null,
      "outputs": [
        {
          "output_type": "stream",
          "name": "stdout",
          "text": [
            "\n",
            "Descriptive Statistics for longitude :\n",
            "Mean: -119.58919999999999\n",
            "Median: -118.485\n",
            "Variance: 3.9784442266666673\n",
            "Standard Deviation: 1.9946037768606244\n",
            "Range: 9.690000000000012\n",
            "Interquartile Range (IQR): 3.7900000000000063\n",
            "Skewness: -0.29770868312210047\n",
            "Kurtosis: -1.3625007669256197\n",
            "\n",
            "Descriptive Statistics for latitude :\n",
            "Mean: 35.635389999999994\n",
            "Median: 34.27\n",
            "Variance: 4.5339804479\n",
            "Standard Deviation: 2.1293145488396026\n",
            "Range: 9.36\n",
            "Interquartile Range (IQR): 3.759999999999998\n",
            "Skewness: 0.45958599688301055\n",
            "Kurtosis: -1.1244987241902247\n",
            "\n",
            "Descriptive Statistics for housing_median_age :\n",
            "Mean: 28.845333333333333\n",
            "Median: 29.0\n",
            "Variance: 157.58541155555554\n",
            "Standard Deviation: 12.553302814620363\n",
            "Range: 51.0\n",
            "Interquartile Range (IQR): 19.0\n",
            "Skewness: 0.01850386331347812\n",
            "Kurtosis: -0.8044440474433037\n",
            "\n",
            "Descriptive Statistics for total_rooms :\n",
            "Mean: 2599.578666666667\n",
            "Median: 2106.0\n",
            "Variance: 4645033.750478223\n",
            "Standard Deviation: 2155.2340361265233\n",
            "Range: 30444.0\n",
            "Interquartile Range (IQR): 1728.0\n",
            "Skewness: 4.165553250335494\n",
            "Kurtosis: 32.044466669077906\n",
            "\n",
            "Descriptive Statistics for total_bedrooms :\n",
            "Mean: 529.9506666666666\n",
            "Median: 437.0\n",
            "Variance: 172710.9642328889\n",
            "Standard Deviation: 415.58508663436044\n",
            "Range: 5417.0\n",
            "Interquartile Range (IQR): 345.0\n",
            "Skewness: 3.861461224097534\n",
            "Kurtosis: 28.48753189248459\n",
            "\n",
            "Descriptive Statistics for population :\n",
            "Mean: 1402.7986666666666\n",
            "Median: 1155.0\n",
            "Variance: 1061664.8941315555\n",
            "Standard Deviation: 1030.3712409280238\n",
            "Range: 11930.0\n",
            "Interquartile Range (IQR): 962.75\n",
            "Skewness: 2.9481956505974214\n",
            "Kurtosis: 16.41387618265221\n",
            "\n",
            "Descriptive Statistics for households :\n",
            "Mean: 489.912\n",
            "Median: 409.5\n",
            "Variance: 133489.24558933332\n",
            "Standard Deviation: 365.3618009443972\n",
            "Range: 4928.0\n",
            "Interquartile Range (IQR): 324.25\n",
            "Skewness: 3.5579732876776733\n",
            "Kurtosis: 26.18366680809118\n",
            "\n",
            "Descriptive Statistics for median_income :\n",
            "Mean: 3.8072717999999997\n",
            "Median: 3.4871499999999997\n",
            "Variance: 3.4380673509780935\n",
            "Standard Deviation: 1.854202618641796\n",
            "Range: 14.5002\n",
            "Interquartile Range (IQR): 2.112475\n",
            "Skewness: 1.697662360984838\n",
            "Kurtosis: 5.614812216724314\n",
            "\n",
            "Descriptive Statistics for median_house_value :\n",
            "Mean: 205846.275\n",
            "Median: 177650.0\n",
            "Variance: 12791798338.666039\n",
            "Standard Deviation: 113100.83261703266\n",
            "Range: 477501.0\n",
            "Interquartile Range (IQR): 142775.0\n",
            "Skewness: 0.9890670635093471\n",
            "Kurtosis: 0.3927409720063544\n"
          ]
        }
      ]
    }
  ]
}